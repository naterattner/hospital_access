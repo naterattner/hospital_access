{
 "cells": [
  {
   "cell_type": "code",
   "execution_count": 1,
   "id": "3fb630e7-0cda-4b6f-98fe-d0fb4f7bac5c",
   "metadata": {},
   "outputs": [],
   "source": [
    "import pandas as pd\n",
    "import geopandas as gpd\n",
    "from shapely.ops import nearest_points"
   ]
  },
  {
   "cell_type": "markdown",
   "id": "c4f76724-44a7-4e4f-9441-d93440628976",
   "metadata": {},
   "source": [
    "### Load data"
   ]
  },
  {
   "cell_type": "code",
   "execution_count": 10,
   "id": "37a0421a-5f19-49d2-aa14-590a203f3fff",
   "metadata": {},
   "outputs": [
    {
     "name": "stderr",
     "output_type": "stream",
     "text": [
      "/var/folders/8c/gxrlw_4x0w7d7z884599dvbr0000gn/T/ipykernel_98905/1706764617.py:1: DtypeWarning: Columns (0,5,6,7,10) have mixed types. Specify dtype option on import or set low_memory=False.\n",
      "  hosp_df = pd.read_csv('../data/yearly_hospital_lists/geocoded/final/combined_with_coords_final.csv')\n"
     ]
    }
   ],
   "source": [
    "hosp_df = pd.read_csv('../data/yearly_hospital_lists/geocoded/final/combined_with_coords_final.csv')\n",
    "\n",
    "hosp_gdf = gpd.GeoDataFrame(\n",
    "    hosp_df,\n",
    "    geometry=gpd.points_from_xy(hosp_df['final_longitude'], hosp_df['final_latitude']),\n",
    "    crs=\"EPSG:4326\"  # lat/lon CRS\n",
    ")\n",
    "\n",
    "# Reproject to NAD83 / Conus Albers for distance (meters)\n",
    "hosp_gdf = hosp_gdf.to_crs(\"EPSG:5070\")"
   ]
  },
  {
   "cell_type": "code",
   "execution_count": 11,
   "id": "1d340458-6f89-40d2-ae05-d7aeed83707e",
   "metadata": {},
   "outputs": [],
   "source": [
    "# Load and reproject county centroids\n",
    "county_gdf = gpd.read_file('../data/county_pop_centroids/nhgis0001_shape/nhgis0001_shapefile_cenpop2020_us_county_cenpop_2020/US_county_cenpop_2020.shp')\n",
    "\n",
    "# Reproject to NAD83 / Conus Albers for distance (meters)\n",
    "proj_crs = \"EPSG:5070\"  # NAD83 / Conus Albers (unit = meters)\n",
    "county_gdf = county_gdf.to_crs(proj_crs)"
   ]
  },
  {
   "cell_type": "code",
   "execution_count": 12,
   "id": "f2d16457-57c5-406a-a35d-c06b6e96e15e",
   "metadata": {},
   "outputs": [],
   "source": [
    "# Urban/rural classifications\n",
    "urban_rural_df = pd.read_csv('../data/urban_rural/data-table.csv', dtype={'FIPS code': str})\n",
    "urban_rural_df['FIPS_clean'] = urban_rural_df['FIPS code'].str.zfill(5)"
   ]
  },
  {
   "cell_type": "markdown",
   "id": "eaf06b7a-6688-4fe0-bbf6-173e8ac4b6c1",
   "metadata": {},
   "source": [
    "### Join urban-rural classifications to counties"
   ]
  },
  {
   "cell_type": "code",
   "execution_count": 13,
   "id": "45bb7852-1201-47f2-89cf-08d6f765ac38",
   "metadata": {},
   "outputs": [],
   "source": [
    "# Make FIPS code for counties\n",
    "county_gdf['FIPS'] = county_gdf['STATEFP'] + county_gdf['COUNTYFP']\n",
    "\n",
    "# Merge\n",
    "county_gdf_merged = county_gdf.merge(urban_rural_df, how='left', left_on='FIPS', right_on='FIPS_clean')"
   ]
  },
  {
   "cell_type": "code",
   "execution_count": 14,
   "id": "2a026900-26fc-4202-a57d-49c0ad8223aa",
   "metadata": {},
   "outputs": [
    {
     "data": {
      "text/plain": [
       "array(['Connecticut', 'Puerto Rico'], dtype=object)"
      ]
     },
     "execution_count": 14,
     "metadata": {},
     "output_type": "execute_result"
    }
   ],
   "source": [
    "# See states where the join didn't work\n",
    "county_gdf_merged[county_gdf_merged['2023 Code'].isna()]['STNAME'].unique()"
   ]
  },
  {
   "cell_type": "markdown",
   "id": "05041bec-cf66-4d93-8829-93502407b4d2",
   "metadata": {},
   "source": [
    "### Distance analysis"
   ]
  },
  {
   "cell_type": "code",
   "execution_count": 15,
   "id": "5c1fb0b4-a808-4c6d-ad2d-6f9b8449a537",
   "metadata": {},
   "outputs": [],
   "source": [
    "# Define function\n",
    "def compute_nearest_distance(hosp_gdf_subset, county_gdf):\n",
    "    if hosp_gdf_subset.empty:\n",
    "        return pd.Series([None] * len(county_gdf), index=county_gdf.index)\n",
    "\n",
    "    hospital_union = hosp_gdf_subset.geometry.union_all()\n",
    "    distances = county_gdf.geometry.apply(\n",
    "        lambda geom: geom.distance(nearest_points(geom, hospital_union)[1])\n",
    "    )\n",
    "    return distances / 1609.34  # meters to miles"
   ]
  },
  {
   "cell_type": "code",
   "execution_count": 16,
   "id": "81af210a-8bcd-48b9-89d2-f020b41aac9a",
   "metadata": {},
   "outputs": [
    {
     "name": "stdout",
     "output_type": "stream",
     "text": [
      "Finished 2016\n",
      "Finished 2017\n",
      "Finished 2018\n",
      "Finished 2019\n",
      "Finished 2020\n",
      "Finished 2021\n",
      "Finished 2022\n",
      "Finished 2023\n",
      "Finished 2024\n"
     ]
    }
   ],
   "source": [
    "# Loop over years and compute distances\n",
    "\n",
    "output = pd.DataFrame()\n",
    "output[\"FIPS\"] = county_gdf[\"FIPS\"]\n",
    "\n",
    "for year in range(2016, 2025):\n",
    "    # Filter the hospital GeoDataFrame to just acute hospitals for that year\n",
    "    hosp_year = hosp_gdf[(hosp_gdf[\"YEAR\"] == year) & (hosp_gdf[\"HOSPITAL_TYPE\"] == \"Acute\")]\n",
    "\n",
    "    # Compute distances from each county to its nearest acute hospital\n",
    "    distances = compute_nearest_distance(hosp_year, county_gdf)\n",
    "    \n",
    "    # Store the resulting series as a new col in output table\n",
    "    output[f\"distance_miles_{year}\"] = distances\n",
    "    print(f\"Finished {year}\")"
   ]
  },
  {
   "cell_type": "code",
   "execution_count": 22,
   "id": "30a26ee8-ba41-4560-8798-25c6185dbe59",
   "metadata": {},
   "outputs": [
    {
     "data": {
      "text/plain": [
       "3221"
      ]
     },
     "execution_count": 22,
     "metadata": {},
     "output_type": "execute_result"
    }
   ],
   "source": [
    "len(output['FIPS'])"
   ]
  },
  {
   "cell_type": "code",
   "execution_count": 23,
   "id": "f13a9bde-f39a-4987-bf02-e408145c7f29",
   "metadata": {},
   "outputs": [
    {
     "data": {
      "text/html": [
       "<div>\n",
       "<style scoped>\n",
       "    .dataframe tbody tr th:only-of-type {\n",
       "        vertical-align: middle;\n",
       "    }\n",
       "\n",
       "    .dataframe tbody tr th {\n",
       "        vertical-align: top;\n",
       "    }\n",
       "\n",
       "    .dataframe thead th {\n",
       "        text-align: right;\n",
       "    }\n",
       "</style>\n",
       "<table border=\"1\" class=\"dataframe\">\n",
       "  <thead>\n",
       "    <tr style=\"text-align: right;\">\n",
       "      <th></th>\n",
       "      <th>GISJOIN</th>\n",
       "      <th>GEOID</th>\n",
       "      <th>STATEFP</th>\n",
       "      <th>COUNTYFP</th>\n",
       "      <th>STNAME</th>\n",
       "      <th>COUNAME</th>\n",
       "      <th>POPULATION</th>\n",
       "      <th>LATITUDE</th>\n",
       "      <th>LONGITUDE</th>\n",
       "      <th>geometry</th>\n",
       "      <th>FIPS</th>\n",
       "    </tr>\n",
       "  </thead>\n",
       "  <tbody>\n",
       "    <tr>\n",
       "      <th>0</th>\n",
       "      <td>G0100010</td>\n",
       "      <td>01001</td>\n",
       "      <td>01</td>\n",
       "      <td>001</td>\n",
       "      <td>Alabama</td>\n",
       "      <td>Autauga</td>\n",
       "      <td>58805</td>\n",
       "      <td>32.500194</td>\n",
       "      <td>-86.487813</td>\n",
       "      <td>POINT (887485.091 1091989.207)</td>\n",
       "      <td>01001</td>\n",
       "    </tr>\n",
       "    <tr>\n",
       "      <th>1</th>\n",
       "      <td>G0100030</td>\n",
       "      <td>01003</td>\n",
       "      <td>01</td>\n",
       "      <td>003</td>\n",
       "      <td>Alabama</td>\n",
       "      <td>Baldwin</td>\n",
       "      <td>231767</td>\n",
       "      <td>30.537396</td>\n",
       "      <td>-87.761478</td>\n",
       "      <td>POINT (787890.83 863218.563)</td>\n",
       "      <td>01003</td>\n",
       "    </tr>\n",
       "    <tr>\n",
       "      <th>2</th>\n",
       "      <td>G0100050</td>\n",
       "      <td>01005</td>\n",
       "      <td>01</td>\n",
       "      <td>005</td>\n",
       "      <td>Alabama</td>\n",
       "      <td>Barbour</td>\n",
       "      <td>25223</td>\n",
       "      <td>31.843981</td>\n",
       "      <td>-85.301306</td>\n",
       "      <td>POINT (1005960.112 1031085.25)</td>\n",
       "      <td>01005</td>\n",
       "    </tr>\n",
       "    <tr>\n",
       "      <th>3</th>\n",
       "      <td>G0100070</td>\n",
       "      <td>01007</td>\n",
       "      <td>01</td>\n",
       "      <td>007</td>\n",
       "      <td>Alabama</td>\n",
       "      <td>Bibb</td>\n",
       "      <td>22293</td>\n",
       "      <td>33.032236</td>\n",
       "      <td>-87.136826</td>\n",
       "      <td>POINT (821586.755 1145231.695)</td>\n",
       "      <td>01007</td>\n",
       "    </tr>\n",
       "    <tr>\n",
       "      <th>4</th>\n",
       "      <td>G0100090</td>\n",
       "      <td>01009</td>\n",
       "      <td>01</td>\n",
       "      <td>009</td>\n",
       "      <td>Alabama</td>\n",
       "      <td>Blount</td>\n",
       "      <td>59134</td>\n",
       "      <td>33.954604</td>\n",
       "      <td>-86.592667</td>\n",
       "      <td>POINT (861687.94 1252587.337)</td>\n",
       "      <td>01009</td>\n",
       "    </tr>\n",
       "    <tr>\n",
       "      <th>...</th>\n",
       "      <td>...</td>\n",
       "      <td>...</td>\n",
       "      <td>...</td>\n",
       "      <td>...</td>\n",
       "      <td>...</td>\n",
       "      <td>...</td>\n",
       "      <td>...</td>\n",
       "      <td>...</td>\n",
       "      <td>...</td>\n",
       "      <td>...</td>\n",
       "      <td>...</td>\n",
       "    </tr>\n",
       "    <tr>\n",
       "      <th>3216</th>\n",
       "      <td>G7201450</td>\n",
       "      <td>72145</td>\n",
       "      <td>72</td>\n",
       "      <td>145</td>\n",
       "      <td>Puerto Rico</td>\n",
       "      <td>Vega Baja</td>\n",
       "      <td>54414</td>\n",
       "      <td>18.439692</td>\n",
       "      <td>-66.399082</td>\n",
       "      <td>POINT (3193399.001 10312.777)</td>\n",
       "      <td>72145</td>\n",
       "    </tr>\n",
       "    <tr>\n",
       "      <th>3217</th>\n",
       "      <td>G7201470</td>\n",
       "      <td>72147</td>\n",
       "      <td>72</td>\n",
       "      <td>147</td>\n",
       "      <td>Puerto Rico</td>\n",
       "      <td>Vieques</td>\n",
       "      <td>8249</td>\n",
       "      <td>18.134221</td>\n",
       "      <td>-65.448953</td>\n",
       "      <td>POINT (3302688.508 11849.919)</td>\n",
       "      <td>72147</td>\n",
       "    </tr>\n",
       "    <tr>\n",
       "      <th>3218</th>\n",
       "      <td>G7201490</td>\n",
       "      <td>72149</td>\n",
       "      <td>72</td>\n",
       "      <td>149</td>\n",
       "      <td>Puerto Rico</td>\n",
       "      <td>Villalba</td>\n",
       "      <td>22093</td>\n",
       "      <td>18.123806</td>\n",
       "      <td>-66.486557</td>\n",
       "      <td>POINT (3194554.685 -24674.139)</td>\n",
       "      <td>72149</td>\n",
       "    </tr>\n",
       "    <tr>\n",
       "      <th>3219</th>\n",
       "      <td>G7201510</td>\n",
       "      <td>72151</td>\n",
       "      <td>72</td>\n",
       "      <td>151</td>\n",
       "      <td>Puerto Rico</td>\n",
       "      <td>Yabucoa</td>\n",
       "      <td>30426</td>\n",
       "      <td>18.068957</td>\n",
       "      <td>-65.885852</td>\n",
       "      <td>POINT (3259226.983 -9831.819)</td>\n",
       "      <td>72151</td>\n",
       "    </tr>\n",
       "    <tr>\n",
       "      <th>3220</th>\n",
       "      <td>G7201530</td>\n",
       "      <td>72153</td>\n",
       "      <td>72</td>\n",
       "      <td>153</td>\n",
       "      <td>Puerto Rico</td>\n",
       "      <td>Yauco</td>\n",
       "      <td>34172</td>\n",
       "      <td>18.043328</td>\n",
       "      <td>-66.859541</td>\n",
       "      <td>POINT (3158050.824 -45303.914)</td>\n",
       "      <td>72153</td>\n",
       "    </tr>\n",
       "  </tbody>\n",
       "</table>\n",
       "<p>3221 rows × 11 columns</p>\n",
       "</div>"
      ],
      "text/plain": [
       "       GISJOIN  GEOID STATEFP COUNTYFP       STNAME    COUNAME  POPULATION  \\\n",
       "0     G0100010  01001      01      001      Alabama    Autauga       58805   \n",
       "1     G0100030  01003      01      003      Alabama    Baldwin      231767   \n",
       "2     G0100050  01005      01      005      Alabama    Barbour       25223   \n",
       "3     G0100070  01007      01      007      Alabama       Bibb       22293   \n",
       "4     G0100090  01009      01      009      Alabama     Blount       59134   \n",
       "...        ...    ...     ...      ...          ...        ...         ...   \n",
       "3216  G7201450  72145      72      145  Puerto Rico  Vega Baja       54414   \n",
       "3217  G7201470  72147      72      147  Puerto Rico    Vieques        8249   \n",
       "3218  G7201490  72149      72      149  Puerto Rico   Villalba       22093   \n",
       "3219  G7201510  72151      72      151  Puerto Rico    Yabucoa       30426   \n",
       "3220  G7201530  72153      72      153  Puerto Rico      Yauco       34172   \n",
       "\n",
       "       LATITUDE  LONGITUDE                        geometry   FIPS  \n",
       "0     32.500194 -86.487813  POINT (887485.091 1091989.207)  01001  \n",
       "1     30.537396 -87.761478    POINT (787890.83 863218.563)  01003  \n",
       "2     31.843981 -85.301306  POINT (1005960.112 1031085.25)  01005  \n",
       "3     33.032236 -87.136826  POINT (821586.755 1145231.695)  01007  \n",
       "4     33.954604 -86.592667   POINT (861687.94 1252587.337)  01009  \n",
       "...         ...        ...                             ...    ...  \n",
       "3216  18.439692 -66.399082   POINT (3193399.001 10312.777)  72145  \n",
       "3217  18.134221 -65.448953   POINT (3302688.508 11849.919)  72147  \n",
       "3218  18.123806 -66.486557  POINT (3194554.685 -24674.139)  72149  \n",
       "3219  18.068957 -65.885852   POINT (3259226.983 -9831.819)  72151  \n",
       "3220  18.043328 -66.859541  POINT (3158050.824 -45303.914)  72153  \n",
       "\n",
       "[3221 rows x 11 columns]"
      ]
     },
     "execution_count": 23,
     "metadata": {},
     "output_type": "execute_result"
    }
   ],
   "source": [
    "county_gdf"
   ]
  },
  {
   "cell_type": "code",
   "execution_count": null,
   "id": "0e285697-63ed-446d-a9fc-ad03f855938a",
   "metadata": {},
   "outputs": [],
   "source": []
  }
 ],
 "metadata": {
  "kernelspec": {
   "display_name": "Python 3 (ipykernel)",
   "language": "python",
   "name": "python3"
  },
  "language_info": {
   "codemirror_mode": {
    "name": "ipython",
    "version": 3
   },
   "file_extension": ".py",
   "mimetype": "text/x-python",
   "name": "python",
   "nbconvert_exporter": "python",
   "pygments_lexer": "ipython3",
   "version": "3.9.6"
  }
 },
 "nbformat": 4,
 "nbformat_minor": 5
}
