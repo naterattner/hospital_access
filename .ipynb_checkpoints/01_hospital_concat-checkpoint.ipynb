{
 "cells": [
  {
   "cell_type": "markdown",
   "id": "c3a89f87-29ec-4536-b23f-7fc38f1b3d24",
   "metadata": {},
   "source": [
    "Combine Sheps Center hospital files from 2016-2024 with standardized column names"
   ]
  },
  {
   "cell_type": "code",
   "execution_count": 77,
   "id": "c95882eb-d719-42c4-9cfd-eb19d2846aa1",
   "metadata": {},
   "outputs": [],
   "source": [
    "import pandas as pd\n",
    "import glob\n",
    "import os\n",
    "import re\n",
    "from pathlib import Path\n",
    "\n",
    "import warnings\n",
    "warnings.filterwarnings(\"ignore\", message=\"Cannot parse header or footer\", module=\"openpyxl.worksheet.header_footer\")"
   ]
  },
  {
   "cell_type": "markdown",
   "id": "e6ac040a-1d0f-4690-96e2-aaa2e8a9f425",
   "metadata": {},
   "source": [
    "### Load excel files and concat into one big file"
   ]
  },
  {
   "cell_type": "code",
   "execution_count": 78,
   "id": "79add311-e605-43cd-87f6-4fe4c8f1d52d",
   "metadata": {},
   "outputs": [],
   "source": [
    "# Define the path to files\n",
    "folder_path = '../data/yearly_hospital_lists/raw/'  # Update this if your path is different\n",
    "excel_files = glob.glob(os.path.join(folder_path, '*.xlsx'))\n",
    "\n",
    "# Define name variants\n",
    "acute_keywords = ['acute', 'acute hospitals', 'aucte hospitals'] # 2024 acute tab is misspelled\n",
    "specialty_keywords = ['specialty']\n",
    "\n",
    "# Storage for each category\n",
    "acute_list = []\n",
    "specialty_list = []"
   ]
  },
  {
   "cell_type": "code",
   "execution_count": 79,
   "id": "9e9b29af-efde-4302-bbc5-83acd7577f13",
   "metadata": {},
   "outputs": [],
   "source": [
    "# Column mapping to standardize column names\n",
    "column_map = {\n",
    "    'id': 'ID',\n",
    "    'name': 'NAME',\n",
    "    'address': 'ADDRESS',\n",
    "    'city': 'CITY',\n",
    "    'state': 'STATE',\n",
    "    'zip': 'ZIP',\n",
    "    'zip code': 'ZIP',\n",
    "    'fips': 'FIPS',\n",
    "    'fips 2022': 'FIPS',\n",
    "    'ruca': 'RUCA',\n",
    "    'ruca code': 'RUCA',\n",
    "    'forhp rural/urban 2018': 'RURAL_STATUS',\n",
    "    'forhp rural/urban 2020': 'RURAL_STATUS',\n",
    "    'forhp rural/urban 2021': 'RURAL_STATUS',\n",
    "    'forhp/ rural 2022': 'RURAL_STATUS',\n",
    "    'forhp rural 2024': 'RURAL_STATUS',\n",
    "    'forhprural2021': 'RURAL_STATUS',\n",
    "    'forhprural2022': 'RURAL_STATUS',\n",
    "    'type': 'TYPE',\n",
    "    's_type': 'TYPE',\n",
    "    'pos total beds': 'TOTAL_BEDS',\n",
    "    'total beds, pos': 'TOTAL_BEDS',\n",
    "    'pos tot beds': 'TOTAL_BEDS',\n",
    "    'cr total beds': 'TOTAL_BEDS',\n",
    "    'acute beds, hcris': 'ACUTE_BEDS',\n",
    "    'cr acute beds': 'ACUTE_BEDS',\n",
    "    'cr beds': 'ACUTE_BEDS',\n",
    "    'hcris acute beds': 'ACUTE_BEDS',\n",
    "    'hcris beds': 'ACUTE_BEDS',\n",
    "    # ignore these:\n",
    "    'phone': None, 'phone number': None, 'beds, psf': None, 'psf beds': None,\n",
    "}\n",
    "\n",
    "core_columns = [\n",
    "    'ID', 'NAME', 'ADDRESS', 'CITY', 'STATE', 'ZIP',\n",
    "    'FIPS', 'RUCA', 'RURAL_STATUS', 'TOTAL_BEDS', 'ACUTE_BEDS', 'TYPE'\n",
    "]"
   ]
  },
  {
   "cell_type": "code",
   "execution_count": 80,
   "id": "881edfe9-d998-4775-8552-5670c444064d",
   "metadata": {},
   "outputs": [],
   "source": [
    "# Helper functions\n",
    "\n",
    "def extract_year(filename):\n",
    "    match = re.search(r'20\\d{2}', filename)\n",
    "    return match.group(0) if match else \"Unknown\"\n",
    "\n",
    "def standardize_columns(df):\n",
    "    new_cols = {\n",
    "        col: column_map.get(col.strip().lower(), None)\n",
    "        for col in df.columns\n",
    "    }\n",
    "    df = df.rename(columns=new_cols)\n",
    "    return df[[col for col in core_columns if col in df.columns]]\n",
    "\n",
    "def deduplicate_columns(df):\n",
    "    seen = {}\n",
    "    new_cols = []\n",
    "    for col in df.columns:\n",
    "        col_base = col\n",
    "        count = seen.get(col_base, 0)\n",
    "        new_col = f\"{col_base}.{count}\" if count else col_base\n",
    "        new_cols.append(new_col)\n",
    "        seen[col_base] = count + 1\n",
    "    df.columns = new_cols\n",
    "    return df\n",
    "\n",
    "def load_and_clean(file_path, sheet_name, year, hospital_type):\n",
    "    df = pd.read_excel(file_path, sheet_name=sheet_name, engine='openpyxl')\n",
    "    df = standardize_columns(df)\n",
    "    df['YEAR'] = year\n",
    "    df['HOSPITAL_TYPE'] = hospital_type\n",
    "    return deduplicate_columns(df)"
   ]
  },
  {
   "cell_type": "code",
   "execution_count": 81,
   "id": "58c037d5-5471-41b6-ab0b-56c89f5cac11",
   "metadata": {},
   "outputs": [
    {
     "name": "stdout",
     "output_type": "stream",
     "text": [
      "Hospital-List2023.xlsx\n",
      "HospitalList2018aFinal.xlsx\n",
      "RuralHospitalList2016.xlsx\n",
      "HospitalList2022_revised4.27.2023.xlsx\n",
      "HospitalList2019b.xlsx\n",
      "HospitalList2020daFINAL.xlsx\n",
      "HospitalList2017b.xlsx\n",
      "r-Hospital-List2024.xlsx\n",
      "HospitalList2021_revised4.27.2023.xlsx\n"
     ]
    }
   ],
   "source": [
    "acute_frames = []\n",
    "specialty_frames = []\n",
    "\n",
    "for file_path in excel_files:\n",
    "    print(os.path.basename(file_path))\n",
    "    \n",
    "    if os.path.basename(file_path).startswith('~$'):\n",
    "        continue  # Skip temporary/lock files\n",
    "        \n",
    "    year = extract_year(Path(file_path).name)\n",
    "    xls = pd.ExcelFile(file_path, engine='openpyxl')\n",
    "\n",
    "    for sheet in xls.sheet_names:\n",
    "        sheet_lower = sheet.strip().lower()\n",
    "\n",
    "        if any(k in sheet_lower for k in acute_keywords):\n",
    "            df = load_and_clean(file_path, sheet, year, 'Acute')\n",
    "            acute_frames.append(df)\n",
    "\n",
    "        elif any(k in sheet_lower for k in specialty_keywords):\n",
    "            df = load_and_clean(file_path, sheet, year, 'Specialty')\n",
    "            specialty_frames.append(df)"
   ]
  },
  {
   "cell_type": "code",
   "execution_count": 82,
   "id": "0d539f67-a2db-4f66-9c6f-82a95e94d59b",
   "metadata": {},
   "outputs": [],
   "source": [
    "acute_df = pd.concat(acute_frames, ignore_index=True)\n",
    "specialty_df = pd.concat(specialty_frames, ignore_index=True)"
   ]
  },
  {
   "cell_type": "code",
   "execution_count": 83,
   "id": "75b614a6-cc0b-41b5-989f-457843213f97",
   "metadata": {},
   "outputs": [],
   "source": [
    "# Combine the cleaned acute and specialty DataFrames\n",
    "combined_df = pd.concat([acute_df, specialty_df], ignore_index=True)"
   ]
  },
  {
   "cell_type": "code",
   "execution_count": 84,
   "id": "dbd5283e-f059-4ac3-aaee-45759def5149",
   "metadata": {},
   "outputs": [],
   "source": [
    "# Convert ZIP to string, strip decimals, and pad with zeros if needed\n",
    "combined_df['ZIP'] = (\n",
    "    combined_df['ZIP']\n",
    "    .astype(str)\n",
    "    .str.replace(r'\\.0$', '', regex=True)\n",
    "    .str.zfill(5)\n",
    ")"
   ]
  },
  {
   "cell_type": "markdown",
   "id": "7d7ccb02-2f6f-4bb8-bdbf-a7809bc76a5f",
   "metadata": {},
   "source": [
    "#### Check to make sure we didn't lose any hosptials in this process\n",
    "The number of rows for each year and hospital type in combined_df should match those in our input excel files."
   ]
  },
  {
   "cell_type": "code",
   "execution_count": 85,
   "id": "b7426d9f-c338-46d8-8d4f-d60c161ddb14",
   "metadata": {},
   "outputs": [
    {
     "name": "stdout",
     "output_type": "stream",
     "text": [
      "2023 | Hospital-List2023.xlsx | Acute     | 4518 rows\n",
      "2023 | Hospital-List2023.xlsx | Specialty | 1421 rows\n",
      "2018 | HospitalList2018aFinal.xlsx | Acute     | 4713 rows\n",
      "2018 | HospitalList2018aFinal.xlsx | Specialty | 1380 rows\n",
      "2016 | RuralHospitalList2016.xlsx | Acute     | 4768 rows\n",
      "2016 | RuralHospitalList2016.xlsx | Specialty | 1372 rows\n",
      "2022 | HospitalList2022_revised4.27.2023.xlsx | Acute     | 4591 rows\n",
      "2022 | HospitalList2022_revised4.27.2023.xlsx | Specialty | 1406 rows\n",
      "2019 | HospitalList2019b.xlsx | Acute     | 4663 rows\n",
      "2019 | HospitalList2019b.xlsx | Specialty | 1381 rows\n",
      "2020 | HospitalList2020daFINAL.xlsx | Acute     | 4613 rows\n",
      "2020 | HospitalList2020daFINAL.xlsx | Specialty | 1379 rows\n",
      "2017 | HospitalList2017b.xlsx | Acute     | 4741 rows\n",
      "2017 | HospitalList2017b.xlsx | Specialty | 1390 rows\n",
      "2024 | r-Hospital-List2024.xlsx | Acute     | 4497 rows\n",
      "2024 | r-Hospital-List2024.xlsx | Specialty | 1457 rows\n",
      "2021 | HospitalList2021_revised4.27.2023.xlsx | Acute     | 4591 rows\n",
      "2021 | HospitalList2021_revised4.27.2023.xlsx | Specialty | 1381 rows\n"
     ]
    }
   ],
   "source": [
    "# Loop through files and print counts\n",
    "for file_path in excel_files:\n",
    "    filename = Path(file_path).name\n",
    "    year = extract_year(filename)\n",
    "    xls = pd.ExcelFile(file_path, engine='openpyxl')\n",
    "\n",
    "    for sheet in xls.sheet_names:\n",
    "        sheet_lower = sheet.strip().lower()\n",
    "\n",
    "        if any(k in sheet_lower for k in acute_keywords):\n",
    "            df = pd.read_excel(file_path, sheet_name=sheet, engine='openpyxl')\n",
    "            print(f\"{year} | {filename} | Acute     | {len(df)} rows\")\n",
    "\n",
    "        elif any(k in sheet_lower for k in specialty_keywords):\n",
    "            df = pd.read_excel(file_path, sheet_name=sheet, engine='openpyxl')\n",
    "            print(f\"{year} | {filename} | Specialty | {len(df)} rows\")"
   ]
  },
  {
   "cell_type": "code",
   "execution_count": 86,
   "id": "8839f346-2df1-4757-bd5e-7b06c5b7f4aa",
   "metadata": {},
   "outputs": [
    {
     "data": {
      "text/html": [
       "<div>\n",
       "<style scoped>\n",
       "    .dataframe tbody tr th:only-of-type {\n",
       "        vertical-align: middle;\n",
       "    }\n",
       "\n",
       "    .dataframe tbody tr th {\n",
       "        vertical-align: top;\n",
       "    }\n",
       "\n",
       "    .dataframe thead th {\n",
       "        text-align: right;\n",
       "    }\n",
       "</style>\n",
       "<table border=\"1\" class=\"dataframe\">\n",
       "  <thead>\n",
       "    <tr style=\"text-align: right;\">\n",
       "      <th>HOSPITAL_TYPE</th>\n",
       "      <th>Acute</th>\n",
       "      <th>Specialty</th>\n",
       "    </tr>\n",
       "    <tr>\n",
       "      <th>YEAR</th>\n",
       "      <th></th>\n",
       "      <th></th>\n",
       "    </tr>\n",
       "  </thead>\n",
       "  <tbody>\n",
       "    <tr>\n",
       "      <th>2016</th>\n",
       "      <td>4768</td>\n",
       "      <td>1372</td>\n",
       "    </tr>\n",
       "    <tr>\n",
       "      <th>2017</th>\n",
       "      <td>4741</td>\n",
       "      <td>1390</td>\n",
       "    </tr>\n",
       "    <tr>\n",
       "      <th>2018</th>\n",
       "      <td>4713</td>\n",
       "      <td>1380</td>\n",
       "    </tr>\n",
       "    <tr>\n",
       "      <th>2019</th>\n",
       "      <td>4663</td>\n",
       "      <td>1381</td>\n",
       "    </tr>\n",
       "    <tr>\n",
       "      <th>2020</th>\n",
       "      <td>4613</td>\n",
       "      <td>1379</td>\n",
       "    </tr>\n",
       "    <tr>\n",
       "      <th>2021</th>\n",
       "      <td>4591</td>\n",
       "      <td>1381</td>\n",
       "    </tr>\n",
       "    <tr>\n",
       "      <th>2022</th>\n",
       "      <td>4591</td>\n",
       "      <td>1406</td>\n",
       "    </tr>\n",
       "    <tr>\n",
       "      <th>2023</th>\n",
       "      <td>4518</td>\n",
       "      <td>1421</td>\n",
       "    </tr>\n",
       "    <tr>\n",
       "      <th>2024</th>\n",
       "      <td>4497</td>\n",
       "      <td>1457</td>\n",
       "    </tr>\n",
       "  </tbody>\n",
       "</table>\n",
       "</div>"
      ],
      "text/plain": [
       "HOSPITAL_TYPE  Acute  Specialty\n",
       "YEAR                           \n",
       "2016            4768       1372\n",
       "2017            4741       1390\n",
       "2018            4713       1380\n",
       "2019            4663       1381\n",
       "2020            4613       1379\n",
       "2021            4591       1381\n",
       "2022            4591       1406\n",
       "2023            4518       1421\n",
       "2024            4497       1457"
      ]
     },
     "execution_count": 86,
     "metadata": {},
     "output_type": "execute_result"
    }
   ],
   "source": [
    "combined_df.pivot_table(index='YEAR', columns='HOSPITAL_TYPE', aggfunc='size', fill_value=0)"
   ]
  },
  {
   "cell_type": "markdown",
   "id": "08ae5c58-1186-4b32-a890-22914ac62add",
   "metadata": {},
   "source": [
    "### Export csv"
   ]
  },
  {
   "cell_type": "code",
   "execution_count": 88,
   "id": "6519c1d2-3cf8-4c53-becb-fd1036e72239",
   "metadata": {},
   "outputs": [],
   "source": [
    "combined_df.to_csv('../data/yearly_hospital_lists/processed/combined_df.csv', index=False)"
   ]
  }
 ],
 "metadata": {
  "kernelspec": {
   "display_name": "Python 3 (ipykernel)",
   "language": "python",
   "name": "python3"
  },
  "language_info": {
   "codemirror_mode": {
    "name": "ipython",
    "version": 3
   },
   "file_extension": ".py",
   "mimetype": "text/x-python",
   "name": "python",
   "nbconvert_exporter": "python",
   "pygments_lexer": "ipython3",
   "version": "3.9.6"
  }
 },
 "nbformat": 4,
 "nbformat_minor": 5
}
