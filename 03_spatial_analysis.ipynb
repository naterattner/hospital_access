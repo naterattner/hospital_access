{
 "cells": [
  {
   "cell_type": "code",
   "execution_count": 3,
   "id": "3fb630e7-0cda-4b6f-98fe-d0fb4f7bac5c",
   "metadata": {},
   "outputs": [],
   "source": [
    "import pandas as pd"
   ]
  },
  {
   "cell_type": "code",
   "execution_count": 4,
   "id": "c8ed15c2-4c1d-4a3b-acf9-2ceca9825a48",
   "metadata": {},
   "outputs": [
    {
     "name": "stderr",
     "output_type": "stream",
     "text": [
      "/var/folders/8c/gxrlw_4x0w7d7z884599dvbr0000gn/T/ipykernel_86090/3291628589.py:1: DtypeWarning: Columns (0,5,6,7,10) have mixed types. Specify dtype option on import or set low_memory=False.\n",
      "  df = pd.read_csv('../data/yearly_hospital_lists/geocoded/final/combined_with_coords_final.csv')\n"
     ]
    }
   ],
   "source": [
    "df = pd.read_csv('../data/yearly_hospital_lists/geocoded/final/combined_with_coords_final.csv')"
   ]
  },
  {
   "cell_type": "code",
   "execution_count": 6,
   "id": "45bb7852-1201-47f2-89cf-08d6f765ac38",
   "metadata": {},
   "outputs": [
    {
     "data": {
      "text/plain": [
       "Index(['ID', 'NAME', 'ADDRESS', 'CITY', 'STATE', 'ZIP', 'FIPS', 'RUCA',\n",
       "       'RURAL_STATUS', 'TOTAL_BEDS', 'ACUTE_BEDS', 'YEAR', 'HOSPITAL_TYPE',\n",
       "       'TYPE', 'TOTAL_BEDS.1', 'cleaned_address', 'full_address',\n",
       "       'full_address_clean', 'zip5', 'final_latitude', 'final_longitude',\n",
       "       'geocode_source', 'used_zip_fallback'],\n",
       "      dtype='object')"
      ]
     },
     "execution_count": 6,
     "metadata": {},
     "output_type": "execute_result"
    }
   ],
   "source": [
    "df.columns"
   ]
  },
  {
   "cell_type": "code",
   "execution_count": null,
   "id": "be678944-1bce-4ff0-a03b-083ed0101d2b",
   "metadata": {},
   "outputs": [],
   "source": []
  }
 ],
 "metadata": {
  "kernelspec": {
   "display_name": "Python 3 (ipykernel)",
   "language": "python",
   "name": "python3"
  },
  "language_info": {
   "codemirror_mode": {
    "name": "ipython",
    "version": 3
   },
   "file_extension": ".py",
   "mimetype": "text/x-python",
   "name": "python",
   "nbconvert_exporter": "python",
   "pygments_lexer": "ipython3",
   "version": "3.9.6"
  }
 },
 "nbformat": 4,
 "nbformat_minor": 5
}
